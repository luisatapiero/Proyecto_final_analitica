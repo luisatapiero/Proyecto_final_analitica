{
 "cells": [
  {
   "cell_type": "markdown",
   "metadata": {
    "id": "PJPeCF6eCMEO"
   },
   "source": [
    "**Proyecto Final** 🚗\n",
    "\n",
    "**Integrantes:** Sebastián Rodríguez, Juan José Rodríguez y Luisa Tapiero"
   ]
  },
  {
   "cell_type": "markdown",
   "metadata": {
    "id": "kfWCWXY4CLVA"
   },
   "source": [
    "La idea de este proyecto es predecir la calificación de riesgo del seguro de un coche, así como caracterizar los diferentes segmentos de la población.\n",
    "\n",
    "Los campos de dataset son los siguientes:\n",
    "\n",
    "1. symboling: -3, -2, -1, 0, 1, 2, 3.\n",
    "2. normalized-losses: continuous from 65 to 256.\n",
    "3. make: alfa-romero, audi, bmw, chevrolet, dodge, honda, isuzu, jaguar, mazda, mercedes-benz, mercury, mitsubishi, nissan, peugot, plymouth, porsche, renault, saab, subaru, toyota, volkswagen, volvo\n",
    "4. fuel-type: diesel, gas.\n",
    "5. aspiration: std, turbo.\n",
    "6. num-of-doors: four, two.\n",
    "7. body-style: hardtop, wagon, sedan, hatchback, convertible.\n",
    "8. drive-wheels: 4wd, fwd, rwd.\n",
    "9. engine-location: front, rear.\n",
    "10. wheel-base: continuous from 86.6 120.9.\n",
    "11. length: continuous from 141.1 to 208.1.\n",
    "12. width: continuous from 60.3 to 72.3.\n",
    "13. height: continuous from 47.8 to 59.8.\n",
    "14. curb-weight: continuous from 1488 to 4066.\n",
    "15. engine-type: dohc, dohcv, l, ohc, ohcf, ohcv, rotor.\n",
    "16. num-of-cylinders: eight, five, four, six, three, twelve, two.\n",
    "17. engine-size: continuous from 61 to 326.\n",
    "18. fuel-system: 1bbl, 2bbl, 4bbl, idi, mfi, mpfi, spdi, spfi.\n",
    "19. bore: continuous from 2.54 to 3.94.\n",
    "20. stroke: continuous from 2.07 to 4.17.\n",
    "21. compression-ratio: continuous from 7 to 23.\n",
    "22. horsepower: continuous from 48 to 288.\n",
    "23. peak-rpm: continuous from 4150 to 6600.\n",
    "24. city-mpg: continuous from 13 to 49.\n",
    "25. highway-mpg: continuous from 16 to 54.\n",
    "26. price: continuous from 5118 to 45400."
   ]
  },
  {
   "cell_type": "markdown",
   "metadata": {
    "id": "9FLMLuwGNxOK"
   },
   "source": [
    "**Limpieza y EDA**"
   ]
  },
  {
   "cell_type": "markdown",
   "metadata": {
    "id": "3P95z2nqMGWB"
   },
   "source": [
    "Cargamos los datos y librerías necesarias. Asimismo, visualizamos los datos iniciales y resumidos."
   ]
  },
  {
   "cell_type": "code",
   "execution_count": 2,
   "metadata": {
    "colab": {
     "base_uri": "https://localhost:8080/",
     "height": 235
    },
    "id": "Bd7z2y8w67lG",
    "outputId": "9ca833dc-6d42-4a9e-c42e-fd84b6a37f5d"
   },
   "outputs": [
    {
     "ename": "FileNotFoundError",
     "evalue": "[Errno 2] No such file or directory: '/imports-85.data'",
     "output_type": "error",
     "traceback": [
      "\u001b[1;31m---------------------------------------------------------------------------\u001b[0m",
      "\u001b[1;31mFileNotFoundError\u001b[0m                         Traceback (most recent call last)",
      "\u001b[1;32m~\\AppData\\Local\\Temp\\ipykernel_27076\\1232955417.py\u001b[0m in \u001b[0;36m<module>\u001b[1;34m\u001b[0m\n\u001b[0;32m     10\u001b[0m \u001b[0mruta_archivo\u001b[0m \u001b[1;33m=\u001b[0m \u001b[1;34m'/imports-85.data'\u001b[0m\u001b[1;33m\u001b[0m\u001b[1;33m\u001b[0m\u001b[0m\n\u001b[0;32m     11\u001b[0m \u001b[0mseparador\u001b[0m \u001b[1;33m=\u001b[0m \u001b[1;34m','\u001b[0m\u001b[1;33m\u001b[0m\u001b[1;33m\u001b[0m\u001b[0m\n\u001b[1;32m---> 12\u001b[1;33m \u001b[0mdf\u001b[0m \u001b[1;33m=\u001b[0m \u001b[0mpd\u001b[0m\u001b[1;33m.\u001b[0m\u001b[0mread_csv\u001b[0m\u001b[1;33m(\u001b[0m\u001b[0mruta_archivo\u001b[0m\u001b[1;33m,\u001b[0m\u001b[0msep\u001b[0m\u001b[1;33m=\u001b[0m\u001b[1;34m\",\"\u001b[0m\u001b[1;33m,\u001b[0m\u001b[0mheader\u001b[0m\u001b[1;33m=\u001b[0m\u001b[1;32mNone\u001b[0m\u001b[1;33m)\u001b[0m\u001b[1;33m\u001b[0m\u001b[1;33m\u001b[0m\u001b[0m\n\u001b[0m\u001b[0;32m     13\u001b[0m \u001b[0mdf\u001b[0m\u001b[1;33m.\u001b[0m\u001b[0mhead\u001b[0m\u001b[1;33m(\u001b[0m\u001b[1;33m)\u001b[0m\u001b[1;33m\u001b[0m\u001b[1;33m\u001b[0m\u001b[0m\n",
      "\u001b[1;32m~\\anaconda3\\lib\\site-packages\\pandas\\util\\_decorators.py\u001b[0m in \u001b[0;36mwrapper\u001b[1;34m(*args, **kwargs)\u001b[0m\n\u001b[0;32m    309\u001b[0m                     \u001b[0mstacklevel\u001b[0m\u001b[1;33m=\u001b[0m\u001b[0mstacklevel\u001b[0m\u001b[1;33m,\u001b[0m\u001b[1;33m\u001b[0m\u001b[1;33m\u001b[0m\u001b[0m\n\u001b[0;32m    310\u001b[0m                 )\n\u001b[1;32m--> 311\u001b[1;33m             \u001b[1;32mreturn\u001b[0m \u001b[0mfunc\u001b[0m\u001b[1;33m(\u001b[0m\u001b[1;33m*\u001b[0m\u001b[0margs\u001b[0m\u001b[1;33m,\u001b[0m \u001b[1;33m**\u001b[0m\u001b[0mkwargs\u001b[0m\u001b[1;33m)\u001b[0m\u001b[1;33m\u001b[0m\u001b[1;33m\u001b[0m\u001b[0m\n\u001b[0m\u001b[0;32m    312\u001b[0m \u001b[1;33m\u001b[0m\u001b[0m\n\u001b[0;32m    313\u001b[0m         \u001b[1;32mreturn\u001b[0m \u001b[0mwrapper\u001b[0m\u001b[1;33m\u001b[0m\u001b[1;33m\u001b[0m\u001b[0m\n",
      "\u001b[1;32m~\\anaconda3\\lib\\site-packages\\pandas\\io\\parsers\\readers.py\u001b[0m in \u001b[0;36mread_csv\u001b[1;34m(filepath_or_buffer, sep, delimiter, header, names, index_col, usecols, squeeze, prefix, mangle_dupe_cols, dtype, engine, converters, true_values, false_values, skipinitialspace, skiprows, skipfooter, nrows, na_values, keep_default_na, na_filter, verbose, skip_blank_lines, parse_dates, infer_datetime_format, keep_date_col, date_parser, dayfirst, cache_dates, iterator, chunksize, compression, thousands, decimal, lineterminator, quotechar, quoting, doublequote, escapechar, comment, encoding, encoding_errors, dialect, error_bad_lines, warn_bad_lines, on_bad_lines, delim_whitespace, low_memory, memory_map, float_precision, storage_options)\u001b[0m\n\u001b[0;32m    676\u001b[0m     \u001b[0mkwds\u001b[0m\u001b[1;33m.\u001b[0m\u001b[0mupdate\u001b[0m\u001b[1;33m(\u001b[0m\u001b[0mkwds_defaults\u001b[0m\u001b[1;33m)\u001b[0m\u001b[1;33m\u001b[0m\u001b[1;33m\u001b[0m\u001b[0m\n\u001b[0;32m    677\u001b[0m \u001b[1;33m\u001b[0m\u001b[0m\n\u001b[1;32m--> 678\u001b[1;33m     \u001b[1;32mreturn\u001b[0m \u001b[0m_read\u001b[0m\u001b[1;33m(\u001b[0m\u001b[0mfilepath_or_buffer\u001b[0m\u001b[1;33m,\u001b[0m \u001b[0mkwds\u001b[0m\u001b[1;33m)\u001b[0m\u001b[1;33m\u001b[0m\u001b[1;33m\u001b[0m\u001b[0m\n\u001b[0m\u001b[0;32m    679\u001b[0m \u001b[1;33m\u001b[0m\u001b[0m\n\u001b[0;32m    680\u001b[0m \u001b[1;33m\u001b[0m\u001b[0m\n",
      "\u001b[1;32m~\\anaconda3\\lib\\site-packages\\pandas\\io\\parsers\\readers.py\u001b[0m in \u001b[0;36m_read\u001b[1;34m(filepath_or_buffer, kwds)\u001b[0m\n\u001b[0;32m    573\u001b[0m \u001b[1;33m\u001b[0m\u001b[0m\n\u001b[0;32m    574\u001b[0m     \u001b[1;31m# Create the parser.\u001b[0m\u001b[1;33m\u001b[0m\u001b[1;33m\u001b[0m\u001b[0m\n\u001b[1;32m--> 575\u001b[1;33m     \u001b[0mparser\u001b[0m \u001b[1;33m=\u001b[0m \u001b[0mTextFileReader\u001b[0m\u001b[1;33m(\u001b[0m\u001b[0mfilepath_or_buffer\u001b[0m\u001b[1;33m,\u001b[0m \u001b[1;33m**\u001b[0m\u001b[0mkwds\u001b[0m\u001b[1;33m)\u001b[0m\u001b[1;33m\u001b[0m\u001b[1;33m\u001b[0m\u001b[0m\n\u001b[0m\u001b[0;32m    576\u001b[0m \u001b[1;33m\u001b[0m\u001b[0m\n\u001b[0;32m    577\u001b[0m     \u001b[1;32mif\u001b[0m \u001b[0mchunksize\u001b[0m \u001b[1;32mor\u001b[0m \u001b[0miterator\u001b[0m\u001b[1;33m:\u001b[0m\u001b[1;33m\u001b[0m\u001b[1;33m\u001b[0m\u001b[0m\n",
      "\u001b[1;32m~\\anaconda3\\lib\\site-packages\\pandas\\io\\parsers\\readers.py\u001b[0m in \u001b[0;36m__init__\u001b[1;34m(self, f, engine, **kwds)\u001b[0m\n\u001b[0;32m    930\u001b[0m \u001b[1;33m\u001b[0m\u001b[0m\n\u001b[0;32m    931\u001b[0m         \u001b[0mself\u001b[0m\u001b[1;33m.\u001b[0m\u001b[0mhandles\u001b[0m\u001b[1;33m:\u001b[0m \u001b[0mIOHandles\u001b[0m \u001b[1;33m|\u001b[0m \u001b[1;32mNone\u001b[0m \u001b[1;33m=\u001b[0m \u001b[1;32mNone\u001b[0m\u001b[1;33m\u001b[0m\u001b[1;33m\u001b[0m\u001b[0m\n\u001b[1;32m--> 932\u001b[1;33m         \u001b[0mself\u001b[0m\u001b[1;33m.\u001b[0m\u001b[0m_engine\u001b[0m \u001b[1;33m=\u001b[0m \u001b[0mself\u001b[0m\u001b[1;33m.\u001b[0m\u001b[0m_make_engine\u001b[0m\u001b[1;33m(\u001b[0m\u001b[0mf\u001b[0m\u001b[1;33m,\u001b[0m \u001b[0mself\u001b[0m\u001b[1;33m.\u001b[0m\u001b[0mengine\u001b[0m\u001b[1;33m)\u001b[0m\u001b[1;33m\u001b[0m\u001b[1;33m\u001b[0m\u001b[0m\n\u001b[0m\u001b[0;32m    933\u001b[0m \u001b[1;33m\u001b[0m\u001b[0m\n\u001b[0;32m    934\u001b[0m     \u001b[1;32mdef\u001b[0m \u001b[0mclose\u001b[0m\u001b[1;33m(\u001b[0m\u001b[0mself\u001b[0m\u001b[1;33m)\u001b[0m\u001b[1;33m:\u001b[0m\u001b[1;33m\u001b[0m\u001b[1;33m\u001b[0m\u001b[0m\n",
      "\u001b[1;32m~\\anaconda3\\lib\\site-packages\\pandas\\io\\parsers\\readers.py\u001b[0m in \u001b[0;36m_make_engine\u001b[1;34m(self, f, engine)\u001b[0m\n\u001b[0;32m   1214\u001b[0m             \u001b[1;31m# \"Union[str, PathLike[str], ReadCsvBuffer[bytes], ReadCsvBuffer[str]]\"\u001b[0m\u001b[1;33m\u001b[0m\u001b[1;33m\u001b[0m\u001b[0m\n\u001b[0;32m   1215\u001b[0m             \u001b[1;31m# , \"str\", \"bool\", \"Any\", \"Any\", \"Any\", \"Any\", \"Any\"\u001b[0m\u001b[1;33m\u001b[0m\u001b[1;33m\u001b[0m\u001b[0m\n\u001b[1;32m-> 1216\u001b[1;33m             self.handles = get_handle(  # type: ignore[call-overload]\n\u001b[0m\u001b[0;32m   1217\u001b[0m                 \u001b[0mf\u001b[0m\u001b[1;33m,\u001b[0m\u001b[1;33m\u001b[0m\u001b[1;33m\u001b[0m\u001b[0m\n\u001b[0;32m   1218\u001b[0m                 \u001b[0mmode\u001b[0m\u001b[1;33m,\u001b[0m\u001b[1;33m\u001b[0m\u001b[1;33m\u001b[0m\u001b[0m\n",
      "\u001b[1;32m~\\anaconda3\\lib\\site-packages\\pandas\\io\\common.py\u001b[0m in \u001b[0;36mget_handle\u001b[1;34m(path_or_buf, mode, encoding, compression, memory_map, is_text, errors, storage_options)\u001b[0m\n\u001b[0;32m    784\u001b[0m         \u001b[1;32mif\u001b[0m \u001b[0mioargs\u001b[0m\u001b[1;33m.\u001b[0m\u001b[0mencoding\u001b[0m \u001b[1;32mand\u001b[0m \u001b[1;34m\"b\"\u001b[0m \u001b[1;32mnot\u001b[0m \u001b[1;32min\u001b[0m \u001b[0mioargs\u001b[0m\u001b[1;33m.\u001b[0m\u001b[0mmode\u001b[0m\u001b[1;33m:\u001b[0m\u001b[1;33m\u001b[0m\u001b[1;33m\u001b[0m\u001b[0m\n\u001b[0;32m    785\u001b[0m             \u001b[1;31m# Encoding\u001b[0m\u001b[1;33m\u001b[0m\u001b[1;33m\u001b[0m\u001b[0m\n\u001b[1;32m--> 786\u001b[1;33m             handle = open(\n\u001b[0m\u001b[0;32m    787\u001b[0m                 \u001b[0mhandle\u001b[0m\u001b[1;33m,\u001b[0m\u001b[1;33m\u001b[0m\u001b[1;33m\u001b[0m\u001b[0m\n\u001b[0;32m    788\u001b[0m                 \u001b[0mioargs\u001b[0m\u001b[1;33m.\u001b[0m\u001b[0mmode\u001b[0m\u001b[1;33m,\u001b[0m\u001b[1;33m\u001b[0m\u001b[1;33m\u001b[0m\u001b[0m\n",
      "\u001b[1;31mFileNotFoundError\u001b[0m: [Errno 2] No such file or directory: '/imports-85.data'"
     ]
    }
   ],
   "source": [
    "import pandas as pd\n",
    "import numpy as np\n",
    "import matplotlib.pyplot as plt #gráficos\n",
    "import seaborn as sns\n",
    "\n",
    "import warnings\n",
    "warnings.filterwarnings('ignore')\n",
    "\n",
    "\n",
    "ruta_archivo = '/imports-85.data'\n",
    "separador = ','\n",
    "df = pd.read_csv(ruta_archivo,sep=\",\",header=None)\n",
    "df.head()"
   ]
  },
  {
   "cell_type": "markdown",
   "metadata": {
    "id": "b5kmSQO7MedQ"
   },
   "source": [
    "Como el dataframe no tiene los nombres de las columnas, entonces procedemos a asignarles a cada una"
   ]
  },
  {
   "cell_type": "code",
   "execution_count": null,
   "metadata": {
    "colab": {
     "base_uri": "https://localhost:8080/",
     "height": 342
    },
    "id": "0tmrNXjn7qfp",
    "outputId": "082d71fe-0fe8-4e71-c5a0-972566f593ae"
   },
   "outputs": [],
   "source": [
    "colnames = [\"symboling\", \"normalized-losses\", \"make\", \"fuel-type\", \"aspiration\", \"num-of-doors\", \"body-style\", \"drive-wheels\", \"engine-location\", \"wheel-base\",\n",
    "         \"length\", \"width\", \"height\", \"curb-weight\", \"engine-type\", \"num-of-cylinders\", \"engine-size\",\"fuel-system\",\"bore\", \"stroke\", \"compression-ratio\", \"horsepower\", \"peak-rpm\", \"city-mpg\", \"highway-mpg\", \"price\"]\n",
    "df.columns=colnames\n",
    "df.head()"
   ]
  },
  {
   "cell_type": "markdown",
   "metadata": {
    "id": "XBl2wvc6PTGm"
   },
   "source": [
    "Revisamos la información del dataframe para observar el tipo de cada variable (dependiente e independientes). Además, obtenemos la información acerca de datos no nulos para cada variable y conocemos la cantidad de datos faltantes por columna.\n",
    "\n",
    "- Hay variables con tipos que no corresponden (symboling, normalized-losses, wheel-base, length, width, height,curb-weight, engine-size, bore, stroke, compression-ratio, horsepower, peak-rpm, city-mpg, highway-mpg, price)\n",
    "- No hay datos nulos ni faltantes"
   ]
  },
  {
   "cell_type": "code",
   "execution_count": null,
   "metadata": {
    "colab": {
     "base_uri": "https://localhost:8080/"
    },
    "id": "HNPCYit37uNK",
    "outputId": "d3691580-1659-4275-a1e5-d5f61362f738"
   },
   "outputs": [],
   "source": [
    "df.info()"
   ]
  },
  {
   "cell_type": "markdown",
   "metadata": {
    "id": "ayQH3CziS0rz"
   },
   "source": [
    "Con esta tabla confirmamos los tipos de variables que no corresponden para bastantes de las columnas.\n",
    "- Encontramos que hay variables con valores \"?\", este problema podría aparecer en otras variables categóricas.\n",
    "- El número de valores posibles no corresponde para las variables:\n",
    "num-of-doors (3 en vez de 2)"
   ]
  },
  {
   "cell_type": "code",
   "execution_count": null,
   "metadata": {
    "colab": {
     "base_uri": "https://localhost:8080/",
     "height": 478
    },
    "id": "HVhKMqe9MRog",
    "outputId": "31605725-c337-4bf1-9a94-ee9f1300d529"
   },
   "outputs": [],
   "source": [
    "df.describe(include='all')"
   ]
  },
  {
   "cell_type": "markdown",
   "metadata": {
    "id": "JAYa6zb0Wfj7"
   },
   "source": [
    "###Limpieza: valores inválidos y tipos de columnas\n",
    "Varias de los atributos del dataset fueron leidos con el tipo de datos que no correspondía:\n",
    "\n",
    "\"symboling\" es una variable categórica codificada con valores \"-3\", \"-2\",\"-1\", \"0\", \"1\", \"2\" y \"3\"\n",
    "\n",
    "'wheel-base', 'length', 'width', 'height', 'curb-weight', 'engine-size', 'bore', 'stroke', 'compression-ratio', 'horsepower', 'peak-rpm', 'city-mpg', 'highway-mpg', 'price' son variables numéricas que aparece como categórica"
   ]
  },
  {
   "cell_type": "markdown",
   "metadata": {
    "id": "N9r-7VuZWzXH"
   },
   "source": [
    "Empezamos por convertir la variable numérica incorrecta (symboling) a categórica"
   ]
  },
  {
   "cell_type": "code",
   "execution_count": null,
   "metadata": {
    "id": "TAuj7eTLW_PD"
   },
   "outputs": [],
   "source": [
    "cols = ['symboling']\n",
    "for col in cols:\n",
    "    df[col] = df[col].astype(str)"
   ]
  },
  {
   "cell_type": "markdown",
   "metadata": {
    "id": "p3Daq7mBXWp5"
   },
   "source": [
    "Verificamos cuáles son las variables categóricas que tienen valores de ?"
   ]
  },
  {
   "cell_type": "markdown",
   "metadata": {
    "id": "vj6C-5-2Xdku"
   },
   "source": [
    "- Encontramos que la variable \"normalized-losses\" tiene muchos valores \"?\"\n",
    "- Los demás variables no tienen muchos valores \"?\", lo que permite que puedan ser reemplazadas por media o moda, dependiendo de su tipo."
   ]
  },
  {
   "cell_type": "code",
   "execution_count": null,
   "metadata": {
    "colab": {
     "base_uri": "https://localhost:8080/"
    },
    "id": "h_3YJCrF72Wg",
    "outputId": "c87d3562-75d9-423c-daea-13737277ac26"
   },
   "outputs": [],
   "source": [
    "for var in df.select_dtypes(include=['object']).columns:\n",
    "    cantidad = df[df[var] == '?'][var].count()\n",
    "    print(f\"Existen {cantidad} valores en {var} con el valor ?\")\n",
    "\n"
   ]
  },
  {
   "cell_type": "markdown",
   "metadata": {
    "id": "040yHPRWYyaJ"
   },
   "source": [
    "Teniendo en cuenta la cantidad de valores \"?\" que se encuentran en la variable normalized-losses, tomamos la decisión de eliminarla, puesto que consideramos que una imputación de valores faltantes es poco fiable y resultaría en una variable poco relevante y con sesgos."
   ]
  },
  {
   "cell_type": "code",
   "execution_count": null,
   "metadata": {
    "id": "xUP3_uUAdT5L"
   },
   "outputs": [],
   "source": [
    "df.drop('normalized-losses', axis=1, inplace=True)"
   ]
  },
  {
   "cell_type": "markdown",
   "metadata": {
    "id": "M0WjMdUzX7VA"
   },
   "source": [
    "Procedemos a convertir los valores \"?\" a NaN, ya que si no lo hacemos, las variables numericas que han sido asignadas como categorícas, no podrán ser convertidas a número"
   ]
  },
  {
   "cell_type": "code",
   "execution_count": null,
   "metadata": {
    "id": "wY_1bb9CKF93"
   },
   "outputs": [],
   "source": [
    "df.replace('?',np.nan, inplace=True)\n",
    "df.dropna(axis=0, inplace=True)"
   ]
  },
  {
   "cell_type": "code",
   "execution_count": null,
   "metadata": {
    "id": "jluBlIcaL7Jp"
   },
   "outputs": [],
   "source": [
    "#se procede a cambiar las variables númericas que se ha identificado como object\n",
    "\n",
    "columnas_numericas = ['wheel-base', 'length', 'width', 'height',\n",
    "    'curb-weight', 'engine-size', 'bore', 'stroke', 'compression-ratio',\n",
    "    'horsepower', 'peak-rpm', 'city-mpg', 'highway-mpg', 'price']\n",
    "\n",
    "df[columnas_numericas] = df[columnas_numericas].astype(float)"
   ]
  },
  {
   "cell_type": "markdown",
   "metadata": {
    "id": "Ail7CdysaWpA"
   },
   "source": [
    "Ahora para cubrir esos valores \"?\" que aparecen en algunas variables númericas, procedemos a calcular el promedio de cada variable y así asignarlo a esos valores \"?\""
   ]
  },
  {
   "cell_type": "code",
   "execution_count": null,
   "metadata": {
    "colab": {
     "base_uri": "https://localhost:8080/"
    },
    "id": "IVKKs8Z6Ps6V",
    "outputId": "f3609fd7-fb23-4d94-cb0f-8900e5c25d95"
   },
   "outputs": [],
   "source": [
    "#Se calcula el promedio de los datos faltantes de price para también adherirlos como valor de estos datos\n",
    "\n",
    "promedio_price_faltantes = df['price'].mean()\n",
    "promedio_stroke_faltantes = df['stroke'].mean()\n",
    "promedio_bore_faltantes = df['bore'].mean()\n",
    "promedio_horsepower_faltantes = df['horsepower'].mean()\n",
    "promedio_peakrpm_faltantes = df['peak-rpm'].mean()\n",
    "\n",
    "df['price'].fillna(promedio_price_faltantes, inplace=True)\n",
    "df['stroke'].fillna(promedio_stroke_faltantes, inplace=True)\n",
    "df['bore'].fillna(promedio_bore_faltantes, inplace=True)\n",
    "df['horsepower'].fillna(promedio_horsepower_faltantes, inplace=True)\n",
    "df['peak-rpm'].fillna(promedio_peakrpm_faltantes, inplace=True)\n",
    "\n",
    "\n",
    "print(\"El promedio de la columna 'price' es:\", promedio_price_faltantes)\n",
    "print(\"El promedio de la columna 'stroke' es:\", promedio_stroke_faltantes)\n",
    "print(\"El promedio de la columna 'bore' es:\", promedio_bore_faltantes)\n",
    "print(\"El promedio de la columna 'peak-rpm' es:\", promedio_horsepower_faltantes)\n",
    "print(\"El promedio de la columna 'horsepower' es:\", promedio_peakrpm_faltantes)"
   ]
  },
  {
   "cell_type": "markdown",
   "metadata": {
    "id": "u9m5KSuWcQBt"
   },
   "source": [
    "Para cubrir los valores \"?\" de la variable categorica num-of-doors, decidimos calcular la moda de la variable y asignarla a esos valores \"?\""
   ]
  },
  {
   "cell_type": "code",
   "execution_count": null,
   "metadata": {
    "id": "n5Hrgd7wifHg"
   },
   "outputs": [],
   "source": [
    "# Calcula la moda de la columna \"num-of-doors\"\n",
    "moda = df['num-of-doors'].mode()[0]\n",
    "\n",
    "# Reemplaza los valores faltantes con la moda\n",
    "df['num-of-doors'].fillna(moda, inplace=True)"
   ]
  },
  {
   "cell_type": "markdown",
   "metadata": {
    "id": "svuAR4d1cgEM"
   },
   "source": [
    "Aquí confirmamos que ya no hay valores \"?\" en ninguna variable categoríca"
   ]
  },
  {
   "cell_type": "code",
   "execution_count": null,
   "metadata": {
    "colab": {
     "base_uri": "https://localhost:8080/"
    },
    "id": "26rIhpVQijkO",
    "outputId": "19d2314b-a59e-49cc-ddab-08e97774db17"
   },
   "outputs": [],
   "source": [
    "for var in df.select_dtypes(include=['object']).columns:\n",
    "    cantidad = df[df[var] == '?'][var].count()\n",
    "    print(f\"Existen {cantidad} valores en {var} con el valor ?\")\n"
   ]
  },
  {
   "cell_type": "markdown",
   "metadata": {
    "id": "g8aQNO3nctGz"
   },
   "source": [
    "Con esta gráfica confirmamos que no hay valores nulos en ninguna de las variables"
   ]
  },
  {
   "cell_type": "code",
   "execution_count": null,
   "metadata": {
    "colab": {
     "base_uri": "https://localhost:8080/",
     "height": 633
    },
    "id": "orq01SrY9miX",
    "outputId": "6da71fb7-7c4f-4e31-d3e8-8bbf1af8a64a"
   },
   "outputs": [],
   "source": [
    "# Datos faltantes y su ubicación dibujados en la gráfica\n",
    "\n",
    "plt.figure(figsize=(10,6))\n",
    "sns.heatmap(df.isnull(), yticklabels = False, cbar = False, cmap=\"Blues\")\n",
    "plt.show()"
   ]
  },
  {
   "cell_type": "markdown",
   "metadata": {
    "id": "oa3OgFpAh60O"
   },
   "source": [
    "###Limpieza Búsqueda de excepciones"
   ]
  },
  {
   "cell_type": "markdown",
   "metadata": {
    "id": "brq0v6ibeMoU"
   },
   "source": [
    "**Mapa de calor**\n",
    "\n",
    "Según los datos proporcionados en la matriz de correlación o mapa de calor que se muestra a continuación, podemos observar algunas tendencias importantes. En primer lugar, en la diagonal principal, encontramos una serie de unos, lo que indica que la correlación de cada variable consigo misma es perfecta. Además, podemos notar que la mayoría de las variables tienen correlaciones considerablemente altas, excepto en los casos de \"stroke,\" \"horsepower,\" y \"city-mpg,\" donde las correlaciones son mucho más cercanas a cero. Esto sugiere que estas variables podrían no aportar significativamente al modelo, ya que no explican adecuadamente la variable dependiente. Esta consideración podría convertirse en un factor crucial al decidir si incluir o no estas variables en el modelo."
   ]
  },
  {
   "cell_type": "code",
   "execution_count": null,
   "metadata": {
    "colab": {
     "base_uri": "https://localhost:8080/",
     "height": 1000
    },
    "id": "eGRlKZiOLstD",
    "outputId": "894d71d6-436b-4328-f04e-bd851038ff8c"
   },
   "outputs": [],
   "source": [
    "# Matriz de correlación entre cada par de variables\n",
    "\n",
    "plt.figure(figsize = (26,26))\n",
    "corr_matrix = df.corr()\n",
    "sns.heatmap(corr_matrix, annot = True)\n",
    "plt.show()"
   ]
  },
  {
   "cell_type": "markdown",
   "metadata": {
    "id": "eUWRt-yReU7h"
   },
   "source": [
    "**Boxplots**\n",
    "\n",
    "En estos boxplots que representan la variable dependiente en función de las variables independientes, podemos observar, además de los valores atípicos, la relación que existe entre estas variables. Por ejemplo, en el primer gráfico, tenemos las variables \"symboling\" y \"Wheel-base\", las cuales parecen indicar una relación entre ellas. Esta relación se puede explicar de la siguiente manera: a medida que aumenta la distancia entre los centros de las llantas delanteras y traseras (mayor \"Wheel-base\"), el índice de riesgo del automóvil disminuye (menor \"symboling\").\n",
    "\n",
    "En este contexto, los boxplots nos ayudan a visualizar cómo la variable \"symboling\" cambia en relación con las diferentes variables, lo que puede ser útil para comprender mejor la relación entre estas en el contexto de la seguridad de los automóviles."
   ]
  },
  {
   "cell_type": "code",
   "execution_count": null,
   "metadata": {
    "colab": {
     "base_uri": "https://localhost:8080/",
     "height": 1000
    },
    "id": "1dqd0OgKUMG3",
    "outputId": "f2b91a12-7354-4702-dc2e-8d0cbbee4b14"
   },
   "outputs": [],
   "source": [
    "cols = ['wheel-base', 'length', 'width', 'height',\n",
    "    'curb-weight', 'engine-size', 'bore', 'stroke', 'compression-ratio',\n",
    "    'horsepower', 'peak-rpm', 'city-mpg', 'highway-mpg', 'price']\n",
    "\n",
    "# Ajusta el tamaño de la figura según la cantidad de subplots\n",
    "plt.figure(figsize=(18, 20))\n",
    "\n",
    "# Configura la cuadrícula 5x3\n",
    "num_rows = 5\n",
    "num_cols = 3\n",
    "\n",
    "for i, col in enumerate(cols, start=1):\n",
    "    plt.subplot(num_rows, num_cols, i)\n",
    "    sns.boxplot(x='symboling', y=col, data=df)\n",
    "\n",
    "plt.tight_layout()  # Ajusta automáticamente los espacios entre subplots\n",
    "plt.show()\n"
   ]
  },
  {
   "cell_type": "markdown",
   "metadata": {
    "id": "sIXsHRjyecn9"
   },
   "source": [
    "Revisamos el dataframe para hacer una comparación de antes y después de aniquilar los datos atipicos, este es el dataframe antes de borrar los datos atípicos."
   ]
  },
  {
   "cell_type": "code",
   "execution_count": null,
   "metadata": {
    "colab": {
     "base_uri": "https://localhost:8080/"
    },
    "id": "fp95st1lpTOr",
    "outputId": "13b36ec4-e880-47e2-8117-4d1b370e16b9"
   },
   "outputs": [],
   "source": [
    "df.info()"
   ]
  },
  {
   "cell_type": "markdown",
   "metadata": {
    "id": "MWPN2RLQfjnw"
   },
   "source": [
    "Para borrar los valores atipicos fue necesario realizar un filtro para indagar en los datos atipicos para luego eliminarlos"
   ]
  },
  {
   "cell_type": "code",
   "execution_count": null,
   "metadata": {
    "colab": {
     "base_uri": "https://localhost:8080/"
    },
    "id": "oMovWAFzzl1c",
    "outputId": "b4b428ec-2c9e-4470-bcf4-438e196b6627"
   },
   "outputs": [],
   "source": [
    "# Importamos las bibliotecas necesarias para la detección de valores atípicos\n",
    "from scipy import stats\n",
    "\n",
    "# Definimos una función para eliminar valores atípicos utilizando el método de Z-score\n",
    "def remove_outliers_zscore(df, columns, threshold=3):\n",
    "    z_scores = np.abs(stats.zscore(df[columns]))\n",
    "    df_no_outliers = df[(z_scores < threshold).all(axis=1)]\n",
    "    return df_no_outliers\n",
    "\n",
    "# Aplicamos la función para eliminar completamente los valores atípicos en las columnas numéricas\n",
    "threshold = 3  # Decidimos que el umbral es 3, el cual es un estándar en estadística\n",
    "df = remove_outliers_zscore(df, columnas_numericas, threshold)\n",
    "\n",
    "# Verificamos la forma del DataFrame resultante\n",
    "print(\"Forma del DataFrame sin valores atípicos:\", df.shape)\n"
   ]
  },
  {
   "cell_type": "markdown",
   "metadata": {
    "id": "9PaaB4yVfpZQ"
   },
   "source": [
    "Confirmamos que si se borraron los datos y a la vez contar cuantos fueron por filas"
   ]
  },
  {
   "cell_type": "code",
   "execution_count": null,
   "metadata": {
    "colab": {
     "base_uri": "https://localhost:8080/"
    },
    "id": "rgnj4qc3zpEE",
    "outputId": "97b6736a-6a82-4a7c-c00a-168336cf4483"
   },
   "outputs": [],
   "source": [
    "filas_anterior = df.shape[0]\n",
    "filas_despues = df_no_outliers.shape[0]\n",
    "\n",
    "filas_eliminadas = filas_anterior - filas_despues\n",
    "\n",
    "print(f\"Se eliminaron {filas_eliminadas} filas debido a valores atípicos.\")\n"
   ]
  },
  {
   "cell_type": "markdown",
   "metadata": {
    "id": "cyXjpCFigjXx"
   },
   "source": [
    "Confirmamos en el dataframe el cambio en la cantidad total de datos donde antes teniamos 193 datos, ahora con el cambio en los datos atipicos contamos con 171 datos"
   ]
  },
  {
   "cell_type": "code",
   "execution_count": null,
   "metadata": {
    "colab": {
     "base_uri": "https://localhost:8080/"
    },
    "id": "fHwuYzu91UB0",
    "outputId": "50b4ceb7-e7ee-4e97-e6a8-7cb0f5b34592"
   },
   "outputs": [],
   "source": [
    "df.info()"
   ]
  }
 ],
 "metadata": {
  "colab": {
   "provenance": []
  },
  "kernelspec": {
   "display_name": "Python 3 (ipykernel)",
   "language": "python",
   "name": "python3"
  },
  "language_info": {
   "codemirror_mode": {
    "name": "ipython",
    "version": 3
   },
   "file_extension": ".py",
   "mimetype": "text/x-python",
   "name": "python",
   "nbconvert_exporter": "python",
   "pygments_lexer": "ipython3",
   "version": "3.9.13"
  }
 },
 "nbformat": 4,
 "nbformat_minor": 1
}
